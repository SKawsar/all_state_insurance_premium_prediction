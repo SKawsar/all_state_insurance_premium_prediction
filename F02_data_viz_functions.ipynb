{
 "cells": [
  {
   "cell_type": "code",
   "execution_count": 4,
   "metadata": {},
   "outputs": [],
   "source": [
    "import pandas as pd\n",
    "import numpy as np\n",
    "\n",
    "#visualization tools\n",
    "import matplotlib.pyplot as plt\n",
    "import seaborn as sns"
   ]
  },
  {
   "cell_type": "code",
   "execution_count": 5,
   "metadata": {},
   "outputs": [],
   "source": [
    "def distribution(df):\n",
    "    \"\"\"\n",
    "    This function returns the distribution and the violinplot of each variable of the dataFrame\n",
    "    \"\"\"\n",
    "\n",
    "    plt.figure(figsize=(16,16))\n",
    "\n",
    "    # subplots location\n",
    "    odd = [i for i in range(1,2*df.shape[1],2)]\n",
    "    even = [i for i in range(2,2*df.shape[1]+1,2)]\n",
    "\n",
    "    for i in range(df.shape[1]):\n",
    "\n",
    "        # histogram\n",
    "        plt.subplot(df.shape[1],2,odd[i])\n",
    "        sns.histplot(x=df.columns[i], data=df)\n",
    "\n",
    "        # violinplot/boxplot\n",
    "        plt.subplot(df.shape[1],2,even[i])\n",
    "        sns.violinplot(x=df.columns[i], data=df)\n",
    "\n",
    "    plt.tight_layout()\n",
    "    plt.show()"
   ]
  },
  {
   "cell_type": "code",
   "execution_count": 6,
   "metadata": {},
   "outputs": [],
   "source": [
    "def correlation_plot(df, method):\n",
    "    \"\"\" determines the Pearson, Spearman and Kendall correlation coefficients and generates the heatmaps\n",
    "    Args:\n",
    "        method (str): {'pearson', 'kendall', 'spearman'}\n",
    "    Returns:\n",
    "        heatmap\n",
    "    \"\"\"\n",
    "    plt.figure(figsize=(30, 30))\n",
    "    plt.title(method + ' correlation coefficient of the continuous features and the target variable')\n",
    "\n",
    "    # find the correlation coefficients\n",
    "    correlation_matrix = df.corr(method=method)\n",
    "\n",
    "    # create a mask to remove the upper triangular values\n",
    "    mask = np.zeros_like(correlation_matrix)\n",
    "    mask[np.triu_indices_from(mask)] = True\n",
    "\n",
    "    # create the heatmap of the correlation coefficients\n",
    "    sns.heatmap(correlation_matrix, linewidth=0.1, vmax=1.0, vmin=-1.0,\n",
    "                square=True, cmap='RdYlGn', linecolor='white', annot=True, mask=mask)\n",
    "\n",
    "    # display the heatmaps\n",
    "    plt.show()"
   ]
  },
  {
   "cell_type": "code",
   "execution_count": null,
   "metadata": {},
   "outputs": [],
   "source": []
  }
 ],
 "metadata": {
  "kernelspec": {
   "display_name": "Python 3",
   "language": "python",
   "name": "python3"
  },
  "language_info": {
   "codemirror_mode": {
    "name": "ipython",
    "version": 3
   },
   "file_extension": ".py",
   "mimetype": "text/x-python",
   "name": "python",
   "nbconvert_exporter": "python",
   "pygments_lexer": "ipython3",
   "version": "3.7.3"
  }
 },
 "nbformat": 4,
 "nbformat_minor": 4
}
