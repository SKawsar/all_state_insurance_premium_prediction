{
 "cells": [
  {
   "cell_type": "code",
   "execution_count": 1,
   "metadata": {},
   "outputs": [],
   "source": [
    "import pandas as pd\n",
    "import numpy as np\n",
    "\n",
    "# Data Preprocessing\n",
    "from sklearn.feature_selection import VarianceThreshold"
   ]
  },
  {
   "cell_type": "code",
   "execution_count": 2,
   "metadata": {},
   "outputs": [],
   "source": [
    "def feature_set(data, data_type):\n",
    "    \"\"\"\n",
    "    This function returns a list of categorical or continuous features\n",
    "    Args:\n",
    "        data (dataFrame): the required pandas dataFrame from where we want to separate the columns\n",
    "        data_type (str): for categorical features: 'O', for continuous features: 'float64'\n",
    "    Returns:\n",
    "        separated_cols (list of str): list of categorical or continuous features\n",
    "    \"\"\"\n",
    "    # create an empty list to hold the separated features\n",
    "    separated_cols = []\n",
    "\n",
    "    # separate the features based on the data type\n",
    "    for col in data.columns:\n",
    "        if data[col].dtype == data_type:\n",
    "            separated_cols.append(col)\n",
    "            \n",
    "    return separated_cols"
   ]
  },
  {
   "cell_type": "code",
   "execution_count": 3,
   "metadata": {},
   "outputs": [],
   "source": [
    "def variance_threshold_selector(data, threshold):\n",
    "    \"\"\"\n",
    "    This function removes the features with a variance lower than the threshold\n",
    "    Args:\n",
    "        data (dataFrame): pandas DataFrame\n",
    "        threshold (float): Features with variance lower than this threshold will be removed\n",
    "    Returns:\n",
    "        a dataFrame with the actual index and column names\n",
    "    \"\"\"\n",
    "    selector = VarianceThreshold(threshold)\n",
    "    selector.fit(data)\n",
    "    \n",
    "    return data[data.columns[selector.get_support(indices=True)]]"
   ]
  },
  {
   "cell_type": "code",
   "execution_count": null,
   "metadata": {},
   "outputs": [],
   "source": []
  }
 ],
 "metadata": {
  "kernelspec": {
   "display_name": "Python 3",
   "language": "python",
   "name": "python3"
  },
  "language_info": {
   "codemirror_mode": {
    "name": "ipython",
    "version": 3
   },
   "file_extension": ".py",
   "mimetype": "text/x-python",
   "name": "python",
   "nbconvert_exporter": "python",
   "pygments_lexer": "ipython3",
   "version": "3.7.3"
  }
 },
 "nbformat": 4,
 "nbformat_minor": 4
}
